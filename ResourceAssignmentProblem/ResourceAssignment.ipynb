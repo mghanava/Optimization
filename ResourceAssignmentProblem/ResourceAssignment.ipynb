{
 "cells": [
  {
   "cell_type": "code",
   "execution_count": 1,
   "metadata": {
    "collapsed": true,
    "jupyter": {
     "outputs_hidden": true,
     "source_hidden": true
    }
   },
   "outputs": [
    {
     "data": {
      "text/plain": [
       "['C:\\\\Users\\\\mghan\\\\miniconda3',\n",
       " 'C:\\\\Users\\\\mghan\\\\miniconda3\\\\Library\\\\mingw-w64\\\\bin',\n",
       " 'C:\\\\Users\\\\mghan\\\\miniconda3\\\\Library\\\\usr\\\\bin',\n",
       " 'C:\\\\Users\\\\mghan\\\\miniconda3\\\\Library\\\\bin',\n",
       " 'C:\\\\Users\\\\mghan\\\\miniconda3\\\\Scripts',\n",
       " 'C:\\\\Users\\\\mghan\\\\miniconda3\\\\bin',\n",
       " 'C:\\\\Users\\\\mghan\\\\miniconda3\\\\Scripts\\\\condabin',\n",
       " 'C:\\\\Users\\\\mghan\\\\bin',\n",
       " 'C:\\\\Program Files\\\\Git\\\\mingw64\\\\bin',\n",
       " 'C:\\\\Program Files\\\\Git\\\\usr\\\\local\\\\bin',\n",
       " 'C:\\\\Program Files\\\\Git\\\\usr\\\\bin',\n",
       " 'C:\\\\Program Files\\\\Git\\\\usr\\\\bin',\n",
       " 'C:\\\\Program Files\\\\Git\\\\mingw64\\\\bin',\n",
       " 'C:\\\\Program Files\\\\Git\\\\usr\\\\bin',\n",
       " 'C:\\\\Users\\\\mghan\\\\bin',\n",
       " 'C:\\\\gurobi911\\\\win64\\\\bin',\n",
       " 'C:\\\\Program Files\\\\Rockwell Software\\\\RSCommon',\n",
       " 'C:\\\\WINDOWS\\\\system32',\n",
       " 'C:\\\\WINDOWS',\n",
       " 'C:\\\\WINDOWS\\\\System32\\\\Wbem',\n",
       " 'C:\\\\WINDOWS\\\\System32\\\\WindowsPowerShell\\\\v1.0',\n",
       " 'C:\\\\WINDOWS\\\\System32\\\\OpenSSH',\n",
       " 'C:\\\\Program Files\\\\WIDCOMM\\\\Bluetooth Software',\n",
       " 'C:\\\\Program Files\\\\WIDCOMM\\\\Bluetooth Software\\\\syswow64',\n",
       " 'C:\\\\Program Files\\\\Git\\\\cmd',\n",
       " 'C:\\\\Users\\\\mghan\\\\AppData\\\\Local\\\\Microsoft\\\\WindowsApps',\n",
       " 'C:\\\\Program Files\\\\JetBrains\\\\PyCharm 2020.3\\\\bin',\n",
       " 'C:\\\\Users\\\\mghan\\\\AppData\\\\Local\\\\Programs\\\\MiKTeX\\\\miktex\\\\bin\\\\x64',\n",
       " 'C:\\\\Program Files\\\\Git\\\\usr\\\\bin\\\\vendor_perl',\n",
       " 'C:\\\\Program Files\\\\Git\\\\usr\\\\bin\\\\core_perl']"
      ]
     },
     "execution_count": 1,
     "metadata": {},
     "output_type": "execute_result"
    }
   ],
   "source": [
    "import os\n",
    "os.environ['PATH'].split(';')"
   ]
  },
  {
   "cell_type": "markdown",
   "metadata": {},
   "source": [
    "# Model 1: Resource Assignment Problem (RAP) without any budget constraint\n",
    "\n",
    "Consider a consulting company that has three open positions: Tester, Java Developer, and Architect. The three top candidates (resources) for the positions are: Carlos, Joe, and Monika. The consulting company administered competency tests to each candidate in order to assess their ability to perform each of the jobs. The results of these tests are called matching scores. Assume that only one candidate can be assigned to a job, and at most one job can be assigned to a candidate.\n",
    "\n",
    "The problem is to determine an assignment of resources and jobs such that each job is fulfilled, each resource is assigned to at most one job, and the total matching scores of the assignments is maximized."
   ]
  },
  {
   "cell_type": "markdown",
   "metadata": {},
   "source": [
    "# Mathematical optimization\n",
    "Mathematical optimization (which is also known as mathematical programming) is a declarative approach where the modeler formulates an optimization problem that captures the key features of a complex decision problem. \n",
    "\n",
    "A mathematical optimization model has five components:\n",
    "\n",
    "    - Sets\n",
    "    - Parameters\n",
    "    - Decision variables\n",
    "    - Constraints\n",
    "    - Objective function(s)"
   ]
  },
  {
   "cell_type": "code",
   "execution_count": 1,
   "metadata": {},
   "outputs": [],
   "source": [
    "import gurobipy as gp\n",
    "from gurobipy import GRB"
   ]
  },
  {
   "cell_type": "markdown",
   "metadata": {},
   "source": [
    "# Input Data"
   ]
  },
  {
   "cell_type": "code",
   "execution_count": 2,
   "metadata": {},
   "outputs": [],
   "source": [
    "# Resource and job sets\n",
    "R = ['Carlos', 'Joe', 'Monika']\n",
    "J = ['Tester', 'JavaDeveloper', 'Architect']\n",
    "\n",
    "# Matching score data\n",
    "# Key: combination of R & J, Value: performance score \n",
    "combinations, scores = gp.multidict({\n",
    "    ('Carlos', 'Tester'):53, \n",
    "    ('Carlos', 'JavaDeveloper'):27,\n",
    "    ('Carlos', 'Architect'): 13, \n",
    "    ('Joe', 'Tester'):80, \n",
    "    ('Joe', 'JavaDeveloper'):47,\n",
    "    ('Joe', 'Architect'): 67,\n",
    "    ('Monika', 'Tester'):53, \n",
    "    ('Monika', 'JavaDeveloper'):73,\n",
    "    ('Monika', 'Architect'): 47    \n",
    "})"
   ]
  },
  {
   "cell_type": "code",
   "execution_count": 3,
   "metadata": {},
   "outputs": [
    {
     "name": "stdout",
     "output_type": "stream",
     "text": [
      "Academic license - for non-commercial use only - expires 2021-02-17\n",
      "Using license file C:\\Users\\mghan\\gurobi.lic\n"
     ]
    }
   ],
   "source": [
    "# Declare and initialize model\n",
    "m1 = gp.Model('RAP1')"
   ]
  },
  {
   "cell_type": "markdown",
   "metadata": {},
   "source": [
    "# Decision variables"
   ]
  },
  {
   "cell_type": "markdown",
   "metadata": {},
   "source": [
    "To solve this assignment problem, we need to identify which resource is assigned to which job. We introduce a decision variable for each possible assignment of resources to jobs. Therefore, we have 9 decision variables.\n",
    "For example,  $x_{2,1}$  is the decision variable associated with assigning the resource Joe to the job Tester. Therefore, decision variable  $x_{r,j}$  equals 1 if resource  $r \\in R$  is assigned to job  $j \\in J$ , and 0 otherwise."
   ]
  },
  {
   "cell_type": "code",
   "execution_count": 4,
   "metadata": {},
   "outputs": [],
   "source": [
    "# Create decision variables for the RAP model\n",
    "# the vtype argument of the Model.addVars() method by default is non-negative and continuous\n",
    "x = m1.addVars(combinations, name=\"assign\")"
   ]
  },
  {
   "cell_type": "code",
   "execution_count": 5,
   "metadata": {},
   "outputs": [
    {
     "data": {
      "text/plain": [
       "{('Carlos', 'Tester'): <gurobi.Var *Awaiting Model Update*>,\n",
       " ('Carlos', 'JavaDeveloper'): <gurobi.Var *Awaiting Model Update*>,\n",
       " ('Carlos', 'Architect'): <gurobi.Var *Awaiting Model Update*>,\n",
       " ('Joe', 'Tester'): <gurobi.Var *Awaiting Model Update*>,\n",
       " ('Joe', 'JavaDeveloper'): <gurobi.Var *Awaiting Model Update*>,\n",
       " ('Joe', 'Architect'): <gurobi.Var *Awaiting Model Update*>,\n",
       " ('Monika', 'Tester'): <gurobi.Var *Awaiting Model Update*>,\n",
       " ('Monika', 'JavaDeveloper'): <gurobi.Var *Awaiting Model Update*>,\n",
       " ('Monika', 'Architect'): <gurobi.Var *Awaiting Model Update*>}"
      ]
     },
     "execution_count": 5,
     "metadata": {},
     "output_type": "execute_result"
    }
   ],
   "source": [
    "x"
   ]
  },
  {
   "cell_type": "code",
   "execution_count": 6,
   "metadata": {},
   "outputs": [
    {
     "data": {
      "text/plain": [
       "{('Carlos', 'Tester'): 53,\n",
       " ('Carlos', 'JavaDeveloper'): 27,\n",
       " ('Carlos', 'Architect'): 13,\n",
       " ('Joe', 'Tester'): 80,\n",
       " ('Joe', 'JavaDeveloper'): 47,\n",
       " ('Joe', 'Architect'): 67,\n",
       " ('Monika', 'Tester'): 53,\n",
       " ('Monika', 'JavaDeveloper'): 73,\n",
       " ('Monika', 'Architect'): 47}"
      ]
     },
     "execution_count": 6,
     "metadata": {},
     "output_type": "execute_result"
    }
   ],
   "source": [
    "scores"
   ]
  },
  {
   "cell_type": "markdown",
   "metadata": {},
   "source": [
    "# Constraints"
   ]
  },
  {
   "cell_type": "markdown",
   "metadata": {},
   "source": [
    "## Job constraints"
   ]
  },
  {
   "cell_type": "markdown",
   "metadata": {},
   "source": [
    "These constraints need to ensure that each job is filled by exactly one resource."
   ]
  },
  {
   "cell_type": "markdown",
   "metadata": {},
   "source": [
    "For each job  $j \\in J$ , take the summation of the decision variables over all the resources. We can write the corresponding job constraint as follows.\n",
    "\n",
    "$$\n",
    "\\sum_{j=1}^{j=3} x_{r, 1} = 1\\\n",
    "$$\n",
    "\n",
    "$$\n",
    "\\sum_{j=1}^{j=3} x_{r, 2} = 1\\\n",
    "$$\n",
    "\n",
    "$$\n",
    "\\sum_{j=1}^{j=3} x_{r, 3} = 1\\\n",
    "$$\n",
    "\n",
    "Or in general: \n",
    "$$\n",
    "\\sum_{r \\in R } x_{r, j} = 1\\ \\forall j \\in J\n",
    "$$"
   ]
  },
  {
   "cell_type": "code",
   "execution_count": 7,
   "metadata": {},
   "outputs": [],
   "source": [
    "# Create job constraints\n",
    "# For each job j in the set of jobs J, equalize the summation of the decision variables over all the resources to 1 \n",
    "jobs = m1.addConstrs((x.sum('*', j) == 1 for j in J), name='job') "
   ]
  },
  {
   "cell_type": "markdown",
   "metadata": {},
   "source": [
    "\\$100"
   ]
  },
  {
   "cell_type": "markdown",
   "metadata": {},
   "source": [
    "## Resource constraints"
   ]
  },
  {
   "cell_type": "markdown",
   "metadata": {},
   "source": [
    "The constraints for the resources need to ensure that at most one job is assigned to each resource. That is, it is possible that not all the resources are assigned.\n",
    "\n",
    "$$\n",
    "\\sum_{j=1}^{j=3} x_{1, j} \\leqslant 1\n",
    "$$\n",
    "\n",
    "$$\n",
    "\\sum_{j=1}^{j=3} x_{2, j} \\leqslant 1\n",
    "$$\n",
    "\n",
    "$$\n",
    "\\sum_{j=1}^{j=3} x_{3, j} \\leqslant 1\n",
    "$$\n",
    "\n",
    "Or in general:\n",
    "$$\n",
    "\\sum_{r \\in R } x_{r, j} \\leqslant 1 \\hspace 1em \\forall r \\in R\n",
    "$$"
   ]
  },
  {
   "cell_type": "code",
   "execution_count": 8,
   "metadata": {},
   "outputs": [],
   "source": [
    "# Create resource constraints\n",
    "# For each job j in the set of jobs J, equalize the summation of the decision variables over all the resources to 1 \n",
    "resources = m1.addConstrs((x.sum(r, '*') <= 1 for r in R), name='resource') "
   ]
  },
  {
   "cell_type": "markdown",
   "metadata": {},
   "source": [
    "# Objective function"
   ]
  },
  {
   "cell_type": "markdown",
   "metadata": {},
   "source": [
    "The goal is to miximize the total matching scores of the each assignments written as:\n",
    "\n",
    "$$ 53x_{1,1}+80x_{2,1}+53x_{3,1} = \\sum_{r \\in R}s_{r,1}x_{r,1} $$\n",
    "$$ 27x_{1,2}+47x_{2,2}+73x_{3,2} = \\sum_{r \\in R}s_{r,1}x_{r,2} $$\n",
    "$$ 13x_{1,3}+63x_{2,3}+47x_{3,3} = \\sum_{r \\in R}s_{r,1}x_{r,3} $$\n",
    "\n",
    "The objective function for matching scores of the assignments that satisfy the job and resource constraints can be concisely writen as:\n",
    "\n",
    "$$ Maximize\\sum_{j \\in J}\\sum_{r \\in R} s_{r,j}x_{r,j} $$\n"
   ]
  },
  {
   "cell_type": "code",
   "execution_count": 9,
   "metadata": {},
   "outputs": [],
   "source": [
    "# Objective: maximize total matching score of all assignments\n",
    "m1.setObjective(x.prod(scores), GRB.MAXIMIZE)"
   ]
  },
  {
   "cell_type": "code",
   "execution_count": 10,
   "metadata": {},
   "outputs": [],
   "source": [
    "# Save model for inspection\n",
    "m1.write('RAP1.lp')"
   ]
  },
  {
   "cell_type": "code",
   "execution_count": 11,
   "metadata": {},
   "outputs": [
    {
     "name": "stdout",
     "output_type": "stream",
     "text": [
      "Maximize\n",
      "   <gurobi.LinExpr: 53.0 assign[Carlos,Tester] + 27.0 assign[Carlos,JavaDeveloper] + 13.0 assign[Carlos,Architect] + 80.0 assign[Joe,Tester] + 47.0 assign[Joe,JavaDeveloper] + 67.0 assign[Joe,Architect] + 53.0 assign[Monika,Tester] + 73.0 assign[Monika,JavaDeveloper] + 47.0 assign[Monika,Architect]>\n",
      "Subject To\n",
      "   job[Tester] : <gurobi.LinExpr: assign[Carlos,Tester] + assign[Joe,Tester] + assign[Monika,Tester]> = 1.0\n",
      "   job[JavaDeveloper] : <gurobi.LinExpr: assign[Carlos,JavaDeveloper] + assign[Joe,JavaDeveloper] + assign[Monika,JavaDeveloper]> = 1.0\n",
      "   job[Architect] : <gurobi.LinExpr: assign[Carlos,Architect] + assign[Joe,Architect] + assign[Monika,Architect]> = 1.0\n",
      "   resource[Carlos] : <gurobi.LinExpr: assign[Carlos,Tester] + assign[Carlos,JavaDeveloper] + assign[Carlos,Architect]> <= 1.0\n",
      "   resource[Joe] : <gurobi.LinExpr: assign[Joe,Tester] + assign[Joe,JavaDeveloper] + assign[Joe,Architect]> <= 1.0\n",
      "   resource[Monika] : <gurobi.LinExpr: assign[Monika,Tester] + assign[Monika,JavaDeveloper] + assign[Monika,Architect]> <= 1.0\n"
     ]
    }
   ],
   "source": [
    "m1.display()"
   ]
  },
  {
   "cell_type": "code",
   "execution_count": 12,
   "metadata": {},
   "outputs": [
    {
     "name": "stdout",
     "output_type": "stream",
     "text": [
      "Gurobi Optimizer version 9.1.1 build v9.1.1rc0 (win64)\n",
      "Thread count: 4 physical cores, 8 logical processors, using up to 8 threads\n",
      "Optimize a model with 6 rows, 9 columns and 18 nonzeros\n",
      "Model fingerprint: 0xb6602fb2\n",
      "Coefficient statistics:\n",
      "  Matrix range     [1e+00, 1e+00]\n",
      "  Objective range  [1e+01, 8e+01]\n",
      "  Bounds range     [0e+00, 0e+00]\n",
      "  RHS range        [1e+00, 1e+00]\n",
      "Presolve time: 0.01s\n",
      "Presolved: 6 rows, 9 columns, 18 nonzeros\n",
      "\n",
      "Iteration    Objective       Primal Inf.    Dual Inf.      Time\n",
      "       0    4.6000000e+32   1.800000e+31   4.600000e+02      0s\n",
      "       5    1.9300000e+02   0.000000e+00   0.000000e+00      0s\n",
      "\n",
      "Solved in 5 iterations and 0.01 seconds\n",
      "Optimal objective  1.930000000e+02\n"
     ]
    }
   ],
   "source": [
    "# Run optimization engine\n",
    "m1.optimize()"
   ]
  },
  {
   "cell_type": "code",
   "execution_count": 13,
   "metadata": {},
   "outputs": [
    {
     "name": "stdout",
     "output_type": "stream",
     "text": [
      "assign[Carlos,Tester] 1.0\n",
      "assign[Joe,Architect] 1.0\n",
      "assign[Monika,JavaDeveloper] 1.0\n",
      "Total matching score:  193.0\n"
     ]
    }
   ],
   "source": [
    "# Display optimal values of decison variables\n",
    "for v in m1.getVars():\n",
    "    if v.x > 1e-6:\n",
    "        print(v.varName, v.x)\n",
    "\n",
    "# Display optimal total matching score\n",
    "print('Total matching score: ', m1.objVal)"
   ]
  },
  {
   "cell_type": "markdown",
   "metadata": {},
   "source": [
    "# Model 2: Resource Assignment Problem with a budget constraint\n",
    "\n",
    "Now, assume there is a fixed cost  Cr,j  associated with assigning a resource  r∈R  to job  j∈J . Assume also that there is a limited budget  B  that can be used for job assignments.\n",
    "\n",
    "The cost of assigning Carlos, Joe, or Monika to any of the jobs is  $\\$1,000$  ,  $\\$2,000$  , and  $\\$3,000$ respectively. The available budget is  $\\$5,000$."
   ]
  },
  {
   "cell_type": "markdown",
   "metadata": {},
   "source": [
    "## Data"
   ]
  },
  {
   "cell_type": "code",
   "execution_count": 14,
   "metadata": {},
   "outputs": [],
   "source": [
    "# Resources and job sets\n",
    "R = ['Carlos', 'Joe', 'Monika']\n",
    "J = ['Tester', 'JavaDeveloper', 'Architect']\n",
    "\n",
    "# Matching score data\n",
    "# Cost is given in thousands of dollars\n",
    "\n",
    "combinations, scores, costs = gp.multidict({\n",
    "    ('Carlos', 'Tester'): [53, 1],\n",
    "    ('Carlos', 'JavaDeveloper'):[27, 1], \n",
    "    ('Carlos', 'Architect'):[13, 1], \n",
    "    ('Joe', 'Tester'): [80, 2],\n",
    "    ('Joe', 'JavaDeveloper'):[47, 2], \n",
    "    ('Joe', 'Architect'):[67, 2], \n",
    "    ('Monika', 'Tester'): [53, 3],\n",
    "    ('Monika', 'JavaDeveloper'):[73, 3], \n",
    "    ('Monika', 'Architect'):[47, 3]\n",
    "})\n",
    "\n",
    "# Available budget (thousands of solars)\n",
    "budget = 5"
   ]
  },
  {
   "cell_type": "code",
   "execution_count": 15,
   "metadata": {},
   "outputs": [],
   "source": [
    "m2 = gp.Model('RAP2')"
   ]
  },
  {
   "cell_type": "markdown",
   "metadata": {},
   "source": [
    "# Decision variables"
   ]
  },
  {
   "cell_type": "markdown",
   "metadata": {},
   "source": [
    "Because there is a budget constraint, it is possible that not all of the jobs will be filled. To account for this, we define a new decision variable that indicates whether or not a job is filled. Let  $g_{j}$  be equal 1 if job  $j \\in J$  is not filled, and 0 otherwise. This variable is a gap variable that indicates that a job cannot be filled."
   ]
  },
  {
   "cell_type": "code",
   "execution_count": 16,
   "metadata": {},
   "outputs": [],
   "source": [
    "# Create decision variables for the RAP2 model (binary integer)\n",
    "x = m2.addVars(combinations, vtype=GRB.BINARY, name=\"assign\")\n",
    "\n",
    "# create gap variables for the RAP2 model\n",
    "g = m2.addVars(J, name='gap')"
   ]
  },
  {
   "cell_type": "markdown",
   "metadata": {},
   "source": [
    "# Constraints"
   ]
  },
  {
   "cell_type": "markdown",
   "metadata": {},
   "source": [
    "## Job constraints\n",
    "limited budget to assign resources to jobs $ \\rightarrow $ not all jobs are certainly filled\n",
    "If for a particular job, the gap binary variable turns out to be 1 then that job is not filled. \n",
    "$$ \\sum_{r \\in R} x_{r, j} + g_{j} = 1 $$"
   ]
  },
  {
   "cell_type": "code",
   "execution_count": 17,
   "metadata": {},
   "outputs": [],
   "source": [
    "# create job constraints\n",
    "jobs = m2.addConstrs((x.sum('*', j) + g[j] == 1 for j in J), name='job')"
   ]
  },
  {
   "cell_type": "markdown",
   "metadata": {},
   "source": [
    "## Resource constraints\n",
    "$$ \\sum_{r \\in R } x_{r, j} \\leqslant 1 $$"
   ]
  },
  {
   "cell_type": "code",
   "execution_count": 18,
   "metadata": {},
   "outputs": [],
   "source": [
    "# create resource constraints\n",
    "resources = m2.addConstrs((x.sum(r, '*') <= 1 for r in R), name='resource')"
   ]
  },
  {
   "cell_type": "markdown",
   "metadata": {},
   "source": [
    "# Budget constraint"
   ]
  },
  {
   "cell_type": "markdown",
   "metadata": {},
   "source": [
    "The total cost of filling the jobs should be less or equal than the budget B available (in thousand dollars):\n",
    "$$ \n",
    "\\left(1x_{1,1} + 2x_{2,1} + 3x_{3,1}\\right) +\n",
    "\\left(1x_{1,2} + 2x_{2,2} + 3x_{3,2}\\right) +\n",
    "\\left(1x_{1,3} + 2x_{2,3} + 3x_{3,3}\\right) \\leqslant 5  \n",
    "$$\n",
    "\n",
    "or in general format:\n",
    "$$ \\sum_{j \\in J}\\sum_{r \\in R} C_{r,j}x_{r,j} \\leqslant B $$"
   ]
  },
  {
   "cell_type": "code",
   "execution_count": 19,
   "metadata": {},
   "outputs": [],
   "source": [
    "budget = m2.addConstr((x.prod(costs) <= budget), name='budget')"
   ]
  },
  {
   "cell_type": "markdown",
   "metadata": {},
   "source": [
    "# Objective function\n",
    "Objective function is: total matching scores of the assignments minus a penalty term! Why? It is possible that not all jobs are filled; `however, we want to heavily penalize this possibility as having gaps heavily deteriorates th etotal matching score value.` Since the maximum value of a matching score is 100, we give a big value of 101 to M: "
   ]
  },
  {
   "cell_type": "markdown",
   "metadata": {},
   "source": [
    "$$ Maximize\\sum_{j \\in J}\\sum_{r \\in R} s_{r,j}x_{r,j} - M\\sum_{j \\in J} g_{j} $$"
   ]
  },
  {
   "cell_type": "code",
   "execution_count": 20,
   "metadata": {},
   "outputs": [],
   "source": [
    "# penalty for not filling a job position\n",
    "M = 101"
   ]
  },
  {
   "cell_type": "code",
   "execution_count": 21,
   "metadata": {},
   "outputs": [],
   "source": [
    "# Objective: maximize total matching score of assignments\n",
    "# Unfilled jobs are heavily penalized\n",
    "m2.setObjective(x.prod(scores) - M * g.sum(), GRB.MAXIMIZE)"
   ]
  },
  {
   "cell_type": "code",
   "execution_count": 22,
   "metadata": {},
   "outputs": [],
   "source": [
    "m2.write('RAP2.lp')"
   ]
  },
  {
   "cell_type": "code",
   "execution_count": 23,
   "metadata": {},
   "outputs": [
    {
     "name": "stdout",
     "output_type": "stream",
     "text": [
      "Maximize\n",
      "   <gurobi.LinExpr: 53.0 assign[Carlos,Tester] + 27.0 assign[Carlos,JavaDeveloper] + 13.0 assign[Carlos,Architect] + 80.0 assign[Joe,Tester] + 47.0 assign[Joe,JavaDeveloper] + 67.0 assign[Joe,Architect] + 53.0 assign[Monika,Tester] + 73.0 assign[Monika,JavaDeveloper] + 47.0 assign[Monika,Architect] + -101.0 gap[Tester] + -101.0 gap[JavaDeveloper] + -101.0 gap[Architect]>\n",
      "Subject To\n",
      "   job[Tester] : <gurobi.LinExpr: assign[Carlos,Tester] + assign[Joe,Tester] + assign[Monika,Tester] + gap[Tester]> = 1.0\n",
      "   job[JavaDeveloper] : <gurobi.LinExpr: assign[Carlos,JavaDeveloper] + assign[Joe,JavaDeveloper] + assign[Monika,JavaDeveloper] + gap[JavaDeveloper]> = 1.0\n",
      "   job[Architect] : <gurobi.LinExpr: assign[Carlos,Architect] + assign[Joe,Architect] + assign[Monika,Architect] + gap[Architect]> = 1.0\n",
      "   resource[Carlos] : <gurobi.LinExpr: assign[Carlos,Tester] + assign[Carlos,JavaDeveloper] + assign[Carlos,Architect]> <= 1.0\n",
      "   resource[Joe] : <gurobi.LinExpr: assign[Joe,Tester] + assign[Joe,JavaDeveloper] + assign[Joe,Architect]> <= 1.0\n",
      "   resource[Monika] : <gurobi.LinExpr: assign[Monika,Tester] + assign[Monika,JavaDeveloper] + assign[Monika,Architect]> <= 1.0\n",
      "   budget : <gurobi.LinExpr: assign[Carlos,Tester] + assign[Carlos,JavaDeveloper] + assign[Carlos,Architect] + 2.0 assign[Joe,Tester] + 2.0 assign[Joe,JavaDeveloper] + 2.0 assign[Joe,Architect] + 3.0 assign[Monika,Tester] + 3.0 assign[Monika,JavaDeveloper] + 3.0 assign[Monika,Architect]> <= 5.0\n",
      "Binaries\n",
      "   ['assign[Carlos,Tester]', 'assign[Carlos,JavaDeveloper]', 'assign[Carlos,Architect]', 'assign[Joe,Tester]', 'assign[Joe,JavaDeveloper]', 'assign[Joe,Architect]', 'assign[Monika,Tester]', 'assign[Monika,JavaDeveloper]', 'assign[Monika,Architect]']\n"
     ]
    }
   ],
   "source": [
    "m2.display()"
   ]
  },
  {
   "cell_type": "code",
   "execution_count": 24,
   "metadata": {},
   "outputs": [
    {
     "name": "stdout",
     "output_type": "stream",
     "text": [
      "Gurobi Optimizer version 9.1.1 build v9.1.1rc0 (win64)\n",
      "Thread count: 4 physical cores, 8 logical processors, using up to 8 threads\n",
      "Optimize a model with 7 rows, 12 columns and 30 nonzeros\n",
      "Model fingerprint: 0xf3c6f8c8\n",
      "Variable types: 3 continuous, 9 integer (9 binary)\n",
      "Coefficient statistics:\n",
      "  Matrix range     [1e+00, 3e+00]\n",
      "  Objective range  [1e+01, 1e+02]\n",
      "  Bounds range     [1e+00, 1e+00]\n",
      "  RHS range        [1e+00, 5e+00]\n",
      "Presolve time: 0.00s\n",
      "Presolved: 7 rows, 12 columns, 30 nonzeros\n",
      "Variable types: 0 continuous, 12 integer (12 binary)\n",
      "Found heuristic solution: objective 52.0000000\n",
      "\n",
      "Root relaxation: objective 1.350000e+02, 4 iterations, 0.00 seconds\n",
      "\n",
      "    Nodes    |    Current Node    |     Objective Bounds      |     Work\n",
      " Expl Unexpl |  Obj  Depth IntInf | Incumbent    BestBd   Gap | It/Node Time\n",
      "\n",
      "     0     0  135.00000    0    2   52.00000  135.00000   160%     -    0s\n",
      "     0     0  121.66667    0    7   52.00000  121.66667   134%     -    0s\n",
      "     0     0     cutoff    0        52.00000   52.00000  0.00%     -    0s\n",
      "\n",
      "Cutting planes:\n",
      "  Gomory: 1\n",
      "  GUB cover: 1\n",
      "  RLT: 1\n",
      "\n",
      "Explored 1 nodes (7 simplex iterations) in 0.03 seconds\n",
      "Thread count was 8 (of 8 available processors)\n",
      "\n",
      "Solution count 1: 52 \n",
      "\n",
      "Optimal solution found (tolerance 1.00e-04)\n",
      "Best objective 5.200000000000e+01, best bound 5.200000000000e+01, gap 0.0000%\n"
     ]
    }
   ],
   "source": [
    "# Run optimization engine\n",
    "m2.optimize()"
   ]
  },
  {
   "cell_type": "code",
   "execution_count": 25,
   "metadata": {},
   "outputs": [
    {
     "name": "stdout",
     "output_type": "stream",
     "text": [
      "assign[Joe,Tester] 1.0\n",
      "assign[Monika,JavaDeveloper] 1.0\n",
      "gap[Architect] 1.0\n",
      "Optimal objective function value:  52.0\n",
      "Total matching score:  153.0\n"
     ]
    }
   ],
   "source": [
    "# Display optimal values of decison variables\n",
    "for v in m2.getVars():\n",
    "    if v.x > 1e-6:\n",
    "        print(v.varName, v.x)\n",
    "\n",
    "# Display optimal total matching score\n",
    "print('Optimal objective function value: ', m2.objVal)\n",
    "\n",
    "# Compute total matching score from assignment variables\n",
    "total_matching_score = 0\n",
    "for [r, j] in combinations:\n",
    "    if x[r, j].x > 1e-6:\n",
    "        total_matching_score += scores[r, j]*x[r, j].x\n",
    "\n",
    "print('Total matching score: ', total_matching_score) "
   ]
  },
  {
   "cell_type": "markdown",
   "metadata": {},
   "source": [
    "# Model 3: Generalized RAP"
   ]
  },
  {
   "cell_type": "markdown",
   "metadata": {},
   "source": [
    "In this sectiion, suppose, we have 200 hundred tasks in 6 different roles with a limited budget of $\\$500,000$. Considering the budget limitation, can we fulfill all jobs or there would be gaps for some tasks? How much of budget is consumed and what is the maximum score we can obtain? There are the types of question we are going to answer. "
   ]
  },
  {
   "cell_type": "code",
   "execution_count": 1,
   "metadata": {},
   "outputs": [],
   "source": [
    "import gurobipy as gp\n",
    "from gurobipy import GRB\n",
    "import names \n",
    "import random\n",
    "import numpy as np\n",
    "from itertools import product"
   ]
  },
  {
   "cell_type": "code",
   "execution_count": 13,
   "metadata": {},
   "outputs": [],
   "source": [
    "def generate_scenario(num_resources=100, num_jobs=100, roles=None,\n",
    "                      score_mu=50, score_sigma=15, seed=10101):\n",
    "    random.seed(seed)\n",
    "    np.random.seed(seed)\n",
    "    if roles is None:\n",
    "        roles = {\"Architect\", \"BackEndEngineer\", \"FrontEndEngineer\",\n",
    "                 \"Tester\", \"DataScientist\", \"DataEngineer\"}\n",
    "    # P.D.F. of resource costs follows Benford's law, having support {1,2,...,9}\n",
    "    # Benford's law states that in listings, tables of statistics, etc., the digit 1 tends to occur with probability ∼30%, \n",
    "    # much greater than the expected 11.1% (i.e., one digit out of 9). \n",
    "    # Benford's law can be observed, for instance, by examining tables of logarithms and noting that the first pages are much more worn and smudged than later pages. \n",
    "    benford = [np.log10((i+1)/i) for i in range(1,10)]\n",
    "    # Sample resource names\n",
    "    resources = {names.get_full_name(i) for i in range(num_resources)}\n",
    "    # Sample job requirements, given that all roles are equally likely to be selected\n",
    "    # multinomial arguments are numeber of experiments (jobs, here), probability of selecting a job and output shape\n",
    "    req = np.random.multinomial(num_jobs, [1/len(roles)]*len(roles), size=1)[0] \n",
    "    jobs = set()\n",
    "    # Assign ID to each job position\n",
    "    for i, role in enumerate(roles):\n",
    "        jobs = jobs.union(set(map(''.join, zip([role]*req[i], [str(x).zfill(int(np.log10(num_jobs))+1) for x in range(1,req[i]+1)]))))\n",
    "    scores = {}\n",
    "    costs = {}\n",
    "    # Sample matching score and cost for each potential assignment\n",
    "    for pair in product(resources, jobs):\n",
    "        scores[pair] = int(np.clip(np.random.normal(score_mu, score_sigma), 0, 100))\n",
    "        costs[pair] = random.choices(list(range(1,10)), weights=benford, k=1)[0]\n",
    "    return resources, jobs, scores, costs \n",
    "\n",
    "# generate random resources, jobs, scores of each resource at each job and cost of assigning each resource to each job\n",
    "res, job, ms, cst = generate_scenario() "
   ]
  },
  {
   "cell_type": "code",
   "execution_count": 14,
   "metadata": {},
   "outputs": [],
   "source": [
    "# assign budget\n",
    "budget = 100"
   ]
  },
  {
   "cell_type": "markdown",
   "metadata": {},
   "source": [
    "## Get a Greedy Solution (heuristic approach)"
   ]
  },
  {
   "cell_type": "markdown",
   "metadata": {},
   "source": [
    "This simple greedy heuristic method follows the algorithm:\n",
    "\n",
    "* consider the highest score,\n",
    "* match the resource with the job of the highest score,\n",
    "* eliminate the resource and the job from the table (recall the constraints that only one resource can be assigned to a job, and at most one job can be assigned to a resource)\n",
    "* choose the next highest score if budgest is available and there is still scores to assign and repeat the process"
   ]
  },
  {
   "cell_type": "code",
   "execution_count": 4,
   "metadata": {},
   "outputs": [],
   "source": [
    "def greedy_solve(resources, jobs, scores, costs, budget):\n",
    "    assign = set()\n",
    "    total_score = 0\n",
    "    remaining_budget = budget\n",
    "    # 200 resources and 200 jobs -> 200*200 scores combinations\n",
    "    while remaining_budget > 0 and len(scores.keys()) > 0: # while there is still budget and remaining scores\n",
    "        selection = max(scores, key=scores.get)\n",
    "        assign.add(selection)\n",
    "        total_score += scores[selection]\n",
    "        remaining_budget -= costs[selection]\n",
    "        # Remove potential assignments related to the resource/job of new selection\n",
    "        res_filter = list(filter(lambda x: x[0] == selection[0], scores))\n",
    "        job_filter = list(filter(lambda x: x[1] == selection[1], scores))\n",
    "        blacklist = res_filter + job_filter\n",
    "        scores = {key: val for key,val in scores.items()\n",
    "                  if key not in blacklist\n",
    "                  and costs[key] <= remaining_budget}\n",
    "    print(\"Number of assignments: {0}\".format(len(assign)))\n",
    "    print(\"Total matching score: {0}\".format(total_score))\n",
    "    print(\"Budget consumed: {0}\".format(budget - remaining_budget))\n",
    "    \n",
    "    kpi = {}\n",
    "    kpi[\"n_assign\"] = len(assign)\n",
    "    kpi[\"total_ms\"] = total_score\n",
    "    kpi[\"budget_used\"] = budget - remaining_budget\n",
    "    return assign, kpi"
   ]
  },
  {
   "cell_type": "code",
   "execution_count": 5,
   "metadata": {},
   "outputs": [
    {
     "name": "stdout",
     "output_type": "stream",
     "text": [
      "Number of assignments: 142\n",
      "Total matching score: 13017\n",
      "Budget consumed: 500\n"
     ]
    }
   ],
   "source": [
    "greedy_sol, kpi = greedy_solve(res, job, ms, cst, budget)\n",
    "\n",
    "# Greedy heuristic KPI's \n",
    "Greedy_assign = kpi[\"n_assign\"]\n",
    "Greedy_ms = kpi[\"total_ms\"]"
   ]
  },
  {
   "cell_type": "markdown",
   "metadata": {},
   "source": [
    "# Get Optimal Solution"
   ]
  },
  {
   "cell_type": "code",
   "execution_count": 16,
   "metadata": {},
   "outputs": [
    {
     "name": "stdout",
     "output_type": "stream",
     "text": [
      "Gurobi Optimizer version 9.1.1 build v9.1.1rc0 (win64)\n",
      "Thread count: 4 physical cores, 8 logical processors, using up to 8 threads\n",
      "Optimize a model with 201 rows, 10100 columns and 30100 nonzeros\n",
      "Model fingerprint: 0x86b93be9\n",
      "Variable types: 100 continuous, 10000 integer (10000 binary)\n",
      "Coefficient statistics:\n",
      "  Matrix range     [1e+00, 9e+00]\n",
      "  Objective range  [1e+00, 1e+02]\n",
      "  Bounds range     [1e+00, 1e+00]\n",
      "  RHS range        [1e+00, 1e+02]\n",
      "Found heuristic solution: objective -10100.00000\n",
      "Presolve time: 0.04s\n",
      "Presolved: 201 rows, 10100 columns, 30100 nonzeros\n",
      "Variable types: 0 continuous, 10100 integer (10100 binary)\n",
      "\n",
      "Root relaxation: objective 7.732000e+03, 283 iterations, 0.01 seconds\n",
      "\n",
      "    Nodes    |    Current Node    |     Objective Bounds      |     Work\n",
      " Expl Unexpl |  Obj  Depth IntInf | Incumbent    BestBd   Gap | It/Node Time\n",
      "\n",
      "*    0     0               0    7732.0000000 7732.00000  0.00%     -    0s\n",
      "\n",
      "Explored 0 nodes (283 simplex iterations) in 0.10 seconds\n",
      "Thread count was 8 (of 8 available processors)\n",
      "\n",
      "Solution count 2: 7732 -10100 \n",
      "\n",
      "Optimal solution found (tolerance 1.00e-04)\n",
      "Best objective 7.732000000000e+03, best bound 7.732000000000e+03, gap 0.0000%\n"
     ]
    }
   ],
   "source": [
    "m3 = gp.Model(\"RAP3\")\n",
    "assign = m3.addVars(ms.keys(), vtype=GRB.BINARY, name=\"assign\")\n",
    "g = m3.addVars(job, name=\"gap\")\n",
    "m3.addConstrs((assign.sum(\"*\", j) + g[j]  == 1 for j in job), name=\"demand\")\n",
    "m3.addConstrs((assign.sum(r, \"*\") <= 1 for r in res), name=\"supply\")\n",
    "m3.addConstr(assign.prod(cst) <= budget, name=\"Budget\")\n",
    "BIGM = 101 # penatly of not filling a job \n",
    "m3.setObjective(assign.prod(ms) -BIGM*g.sum(), GRB.MAXIMIZE)\n",
    "m3.optimize()"
   ]
  },
  {
   "cell_type": "code",
   "execution_count": 35,
   "metadata": {},
   "outputs": [
    {
     "name": "stdout",
     "output_type": "stream",
     "text": [
      "Maximize\n",
      "   <gurobi.LinExpr: 48.0 assign[Frank Smith,DataScientist2] + 39.0 assign[Frank Smith,BackEndEngineer1] + 48.0 assign[Frank Smith,Tester2] + 47.0 assign[Frank Smith,Tester1] + 66.0 assign[Frank Smith,DataScientist1] + 43.0 assign[Gaye Botner,DataScientist2] + 39.0 assign[Gaye Botner,BackEndEngineer1] + 57.0 assign[Gaye Botner,Tester2] + 55.0 assign[Gaye Botner,Tester1] + 34.0 assign[Gaye Botner,DataScientist1] + 22.0 assign[Garry Boston,DataScientist2] + 31.0 assign[Garry Boston,BackEndEngineer1] + 55.0 assign[Garry Boston,Tester2] + 57.0 assign[Garry Boston,Tester1] + 43.0 assign[Garry Boston,DataScientist1] + 51.0 assign[Melvin Gardner,DataScientist2] + 54.0 assign[Melvin Gardner,BackEndEngineer1] + 30.0 assign[Melvin Gardner,Tester2] + 49.0 assign[Melvin Gardner,Tester1] + 53.0 assign[Melvin Gardner,DataScientist1] + 39.0 assign[Karen Bartholomew,DataScientist2] + 58.0 assign[Karen Bartholomew,BackEndEngineer1] + 79.0 assign[Karen Bartholomew,Tester2] + 61.0 assign[Karen Bartholomew,Tester1] + 48.0 assign[Karen Bartholomew,DataScientist1] + -101.0 gap[DataScientist2] + -101.0 gap[BackEndEngineer1] + -101.0 gap[Tester2] + -101.0 gap[Tester1] + -101.0 gap[DataScientist1]>\n",
      "Subject To\n",
      "   demand[DataScientist2] : <gurobi.LinExpr: assign[Frank Smith,DataScientist2] + assign[Gaye Botner,DataScientist2] + assign[Garry Boston,DataScientist2] + assign[Melvin Gardner,DataScientist2] + assign[Karen Bartholomew,DataScientist2] + gap[DataScientist2]> = 1.0\n",
      "   demand[BackEndEngineer1] : <gurobi.LinExpr: assign[Frank Smith,BackEndEngineer1] + assign[Gaye Botner,BackEndEngineer1] + assign[Garry Boston,BackEndEngineer1] + assign[Melvin Gardner,BackEndEngineer1] + assign[Karen Bartholomew,BackEndEngineer1] + gap[BackEndEngineer1]> = 1.0\n",
      "   demand[Tester2] : <gurobi.LinExpr: assign[Frank Smith,Tester2] + assign[Gaye Botner,Tester2] + assign[Garry Boston,Tester2] + assign[Melvin Gardner,Tester2] + assign[Karen Bartholomew,Tester2] + gap[Tester2]> = 1.0\n",
      "   demand[Tester1] : <gurobi.LinExpr: assign[Frank Smith,Tester1] + assign[Gaye Botner,Tester1] + assign[Garry Boston,Tester1] + assign[Melvin Gardner,Tester1] + assign[Karen Bartholomew,Tester1] + gap[Tester1]> = 1.0\n",
      "   demand[DataScientist1] : <gurobi.LinExpr: assign[Frank Smith,DataScientist1] + assign[Gaye Botner,DataScientist1] + assign[Garry Boston,DataScientist1] + assign[Melvin Gardner,DataScientist1] + assign[Karen Bartholomew,DataScientist1] + gap[DataScientist1]> = 1.0\n",
      "   supply[Frank Smith] : <gurobi.LinExpr: assign[Frank Smith,DataScientist2] + assign[Frank Smith,BackEndEngineer1] + assign[Frank Smith,Tester2] + assign[Frank Smith,Tester1] + assign[Frank Smith,DataScientist1]> <= 1.0\n",
      "   supply[Gaye Botner] : <gurobi.LinExpr: assign[Gaye Botner,DataScientist2] + assign[Gaye Botner,BackEndEngineer1] + assign[Gaye Botner,Tester2] + assign[Gaye Botner,Tester1] + assign[Gaye Botner,DataScientist1]> <= 1.0\n",
      "   supply[Garry Boston] : <gurobi.LinExpr: assign[Garry Boston,DataScientist2] + assign[Garry Boston,BackEndEngineer1] + assign[Garry Boston,Tester2] + assign[Garry Boston,Tester1] + assign[Garry Boston,DataScientist1]> <= 1.0\n",
      "   supply[Melvin Gardner] : <gurobi.LinExpr: assign[Melvin Gardner,DataScientist2] + assign[Melvin Gardner,BackEndEngineer1] + assign[Melvin Gardner,Tester2] + assign[Melvin Gardner,Tester1] + assign[Melvin Gardner,DataScientist1]> <= 1.0\n",
      "   supply[Karen Bartholomew] : <gurobi.LinExpr: assign[Karen Bartholomew,DataScientist2] + assign[Karen Bartholomew,BackEndEngineer1] + assign[Karen Bartholomew,Tester2] + assign[Karen Bartholomew,Tester1] + assign[Karen Bartholomew,DataScientist1]> <= 1.0\n",
      "   Budget : <gurobi.LinExpr: assign[Frank Smith,DataScientist2] + 7.0 assign[Frank Smith,BackEndEngineer1] + 2.0 assign[Frank Smith,Tester2] + 7.0 assign[Frank Smith,Tester1] + 5.0 assign[Frank Smith,DataScientist1] + 4.0 assign[Gaye Botner,DataScientist2] + 2.0 assign[Gaye Botner,BackEndEngineer1] + assign[Gaye Botner,Tester2] + 3.0 assign[Gaye Botner,Tester1] + assign[Gaye Botner,DataScientist1] + 6.0 assign[Garry Boston,DataScientist2] + 5.0 assign[Garry Boston,BackEndEngineer1] + 3.0 assign[Garry Boston,Tester2] + 5.0 assign[Garry Boston,Tester1] + 7.0 assign[Garry Boston,DataScientist1] + 3.0 assign[Melvin Gardner,DataScientist2] + 3.0 assign[Melvin Gardner,BackEndEngineer1] + assign[Melvin Gardner,Tester2] + 2.0 assign[Melvin Gardner,Tester1] + assign[Melvin Gardner,DataScientist1] + 8.0 assign[Karen Bartholomew,DataScientist2] + 2.0 assign[Karen Bartholomew,BackEndEngineer1] + 4.0 assign[Karen Bartholomew,Tester2] + assign[Karen Bartholomew,Tester1] + 7.0 assign[Karen Bartholomew,DataScientist1]> <= 5.0\n",
      "Binaries\n",
      "   ['assign[Frank Smith,DataScientist2]', 'assign[Frank Smith,BackEndEngineer1]', 'assign[Frank Smith,Tester2]', 'assign[Frank Smith,Tester1]', 'assign[Frank Smith,DataScientist1]', 'assign[Gaye Botner,DataScientist2]', 'assign[Gaye Botner,BackEndEngineer1]', 'assign[Gaye Botner,Tester2]', 'assign[Gaye Botner,Tester1]', 'assign[Gaye Botner,DataScientist1]', 'assign[Garry Boston,DataScientist2]', 'assign[Garry Boston,BackEndEngineer1]', 'assign[Garry Boston,Tester2]', 'assign[Garry Boston,Tester1]', 'assign[Garry Boston,DataScientist1]', 'assign[Melvin Gardner,DataScientist2]', 'assign[Melvin Gardner,BackEndEngineer1]', 'assign[Melvin Gardner,Tester2]', 'assign[Melvin Gardner,Tester1]', 'assign[Melvin Gardner,DataScientist1]', 'assign[Karen Bartholomew,DataScientist2]', 'assign[Karen Bartholomew,BackEndEngineer1]', 'assign[Karen Bartholomew,Tester2]', 'assign[Karen Bartholomew,Tester1]', 'assign[Karen Bartholomew,DataScientist1]']\n"
     ]
    }
   ],
   "source": [
    "m3.display()"
   ]
  },
  {
   "cell_type": "code",
   "execution_count": 22,
   "metadata": {},
   "outputs": [
    {
     "name": "stdout",
     "output_type": "stream",
     "text": [
      "1) assign[Robin Stanley,Tester01]: 1.0\n",
      "2) assign[Belen Paradis,DataScientist04]: 1.0\n",
      "3) assign[Melvin Gardner,DataScientist02]: 1.0\n",
      "4) assign[Jane Moskowitz,FrontEndEngineer02]: 1.0\n",
      "5) assign[Esther Miller,DataScientist05]: 1.0\n",
      "6) assign[Ester Khoury,DataEngineer01]: 1.0\n",
      "7) assign[Bob Green,BackEndEngineer02]: 1.0\n",
      "8) assign[Tammy Quinn,BackEndEngineer01]: 1.0\n",
      "9) assign[Hannah Hunt,BackEndEngineer03]: 1.0\n",
      "10) assign[Charlotte Lewis,FrontEndEngineer01]: 1.0\n",
      "11) assign[Michael Crawford,Architect01]: 1.0\n",
      "12) assign[James Gibbons,Tester04]: 1.0\n",
      "13) assign[Bruce Lamothe,DataScientist01]: 1.0\n",
      "14) assign[Karen Bartholomew,DataEngineer02]: 1.0\n",
      "15) assign[James Greve,Tester05]: 1.0\n",
      "16) assign[Frank Smith,Tester02]: 1.0\n",
      "17) assign[Gaye Botner,BackEndEngineer04]: 1.0\n",
      "18) assign[Garry Boston,DataScientist03]: 1.0\n",
      "19) assign[Earnest Blenman,FrontEndEngineer03]: 1.0\n",
      "20) assign[Judith Martinez,Tester03]: 1.0\n",
      "Total matching score: 1298.0\n",
      "Optimal objective function value: 1298.0\n"
     ]
    }
   ],
   "source": [
    "def print_solution(model):\n",
    "    i = 1\n",
    "    total_ms = 0\n",
    "    for var in model.getVars():\n",
    "        if abs(var.x) > 1e-6:\n",
    "            print(\"{0}) {1}: {2}\".format(i, var.varName, var.x))\n",
    "            i += 1\n",
    "            if \"assign\" in var.varName:\n",
    "                total_ms += var.Obj\n",
    "    print('Total matching score: {0}'.format(total_ms))\n",
    "    print('Optimal objective function value: {0}'.format(model.objVal))\n",
    "    return None\n",
    "\n",
    "# display optimal values of decision variables\n",
    "print_solution(m3)"
   ]
  },
  {
   "cell_type": "code",
   "execution_count": 33,
   "metadata": {},
   "outputs": [
    {
     "name": "stdout",
     "output_type": "stream",
     "text": [
      "Assignment ratio:  71.00 %\n",
      "Matching score ratio:  74.12 %\n"
     ]
    }
   ],
   "source": [
    "# comparing KPI's of greedy heuristic and Gurobi Optimizer\n",
    "Gurobi_assign = 0\n",
    "Gurobi_ms = 0\n",
    "for [r,j] in ms.keys():\n",
    "    if (abs(assign[r, j].x) > 1e-6):\n",
    "        Gurobi_assign = Gurobi_assign + assign[r, j].x\n",
    "        Gurobi_ms = Gurobi_ms + ms[r, j]*assign[r, j].x\n",
    "        \n",
    "#print('Gurobi total assignments: ', Gurobi_assign)\n",
    "#print('Gurobi total matching score: ', Gurobi_ms)\n",
    "\n",
    "#Ratio of Greedy assignments respect to Gurobi assignments\n",
    "assign_ratio = 100*Greedy_assign/Gurobi_assign\n",
    "ms_ratio = 100*Greedy_ms/Gurobi_ms\n",
    "\n",
    "print('Assignment ratio: ',\"%.2f\" % assign_ratio, '%')\n",
    "print('Matching score ratio: ',\"%.2f\" % ms_ratio, '%')"
   ]
  },
  {
   "cell_type": "markdown",
   "metadata": {},
   "source": [
    "## Analysis of Generalized RAP"
   ]
  },
  {
   "cell_type": "markdown",
   "metadata": {},
   "source": [
    "    - In the heuristic approach, all budget is consumed while 58 jobs remain unallocated. Also, total maximum score obtained is 13017. \n",
    "    - Using optimization, all budget is depleted but no jobs remains unfilled and total maximum score is 17562. This is apart from the quickest run for binary integer optimization problem. "
   ]
  },
  {
   "cell_type": "code",
   "execution_count": null,
   "metadata": {},
   "outputs": [],
   "source": []
  }
 ],
 "metadata": {
  "kernelspec": {
   "display_name": "Python [conda env:ds]",
   "language": "python",
   "name": "conda-env-ds-py"
  },
  "language_info": {
   "codemirror_mode": {
    "name": "ipython",
    "version": 3
   },
   "file_extension": ".py",
   "mimetype": "text/x-python",
   "name": "python",
   "nbconvert_exporter": "python",
   "pygments_lexer": "ipython3",
   "version": "3.9.1"
  }
 },
 "nbformat": 4,
 "nbformat_minor": 4
}
