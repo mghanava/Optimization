{
 "cells": [
  {
   "cell_type": "code",
   "execution_count": 3,
   "metadata": {},
   "outputs": [],
   "source": [
    "import pandas as pd"
   ]
  },
  {
   "cell_type": "code",
   "execution_count": 4,
   "metadata": {},
   "outputs": [
    {
     "data": {
      "text/html": [
       "<div>\n",
       "<style scoped>\n",
       "    .dataframe tbody tr th:only-of-type {\n",
       "        vertical-align: middle;\n",
       "    }\n",
       "\n",
       "    .dataframe tbody tr th {\n",
       "        vertical-align: top;\n",
       "    }\n",
       "\n",
       "    .dataframe thead th {\n",
       "        text-align: right;\n",
       "    }\n",
       "</style>\n",
       "<table border=\"1\" class=\"dataframe\">\n",
       "  <thead>\n",
       "    <tr style=\"text-align: right;\">\n",
       "      <th></th>\n",
       "      <th>Foods</th>\n",
       "      <th>Price/ Serving</th>\n",
       "      <th>Serving Size</th>\n",
       "      <th>Calories</th>\n",
       "      <th>Cholesterol mg</th>\n",
       "      <th>Total_Fat g</th>\n",
       "      <th>Sodium mg</th>\n",
       "      <th>Carbohydrates g</th>\n",
       "      <th>Dietary_Fiber g</th>\n",
       "      <th>Protein g</th>\n",
       "      <th>Vit_A IU</th>\n",
       "      <th>Vit_C IU</th>\n",
       "      <th>Calcium mg</th>\n",
       "      <th>Iron mg</th>\n",
       "    </tr>\n",
       "  </thead>\n",
       "  <tbody>\n",
       "    <tr>\n",
       "      <th>0</th>\n",
       "      <td>Frozen Broccoli</td>\n",
       "      <td>0.16</td>\n",
       "      <td>10 Oz Pkg</td>\n",
       "      <td>73.8</td>\n",
       "      <td>0.0</td>\n",
       "      <td>0.8</td>\n",
       "      <td>68.2</td>\n",
       "      <td>13.6</td>\n",
       "      <td>8.5</td>\n",
       "      <td>8.0</td>\n",
       "      <td>5867.4</td>\n",
       "      <td>160.2</td>\n",
       "      <td>159.0</td>\n",
       "      <td>2.3</td>\n",
       "    </tr>\n",
       "    <tr>\n",
       "      <th>1</th>\n",
       "      <td>Carrots,Raw</td>\n",
       "      <td>0.07</td>\n",
       "      <td>1/2 Cup Shredded</td>\n",
       "      <td>23.7</td>\n",
       "      <td>0.0</td>\n",
       "      <td>0.1</td>\n",
       "      <td>19.2</td>\n",
       "      <td>5.6</td>\n",
       "      <td>1.6</td>\n",
       "      <td>0.6</td>\n",
       "      <td>15471.0</td>\n",
       "      <td>5.1</td>\n",
       "      <td>14.9</td>\n",
       "      <td>0.3</td>\n",
       "    </tr>\n",
       "    <tr>\n",
       "      <th>2</th>\n",
       "      <td>Celery, Raw</td>\n",
       "      <td>0.04</td>\n",
       "      <td>1 Stalk</td>\n",
       "      <td>6.4</td>\n",
       "      <td>0.0</td>\n",
       "      <td>0.1</td>\n",
       "      <td>34.8</td>\n",
       "      <td>1.5</td>\n",
       "      <td>0.7</td>\n",
       "      <td>0.3</td>\n",
       "      <td>53.6</td>\n",
       "      <td>2.8</td>\n",
       "      <td>16.0</td>\n",
       "      <td>0.2</td>\n",
       "    </tr>\n",
       "    <tr>\n",
       "      <th>3</th>\n",
       "      <td>Frozen Corn</td>\n",
       "      <td>0.18</td>\n",
       "      <td>1/2 Cup</td>\n",
       "      <td>72.2</td>\n",
       "      <td>0.0</td>\n",
       "      <td>0.6</td>\n",
       "      <td>2.5</td>\n",
       "      <td>17.1</td>\n",
       "      <td>2.0</td>\n",
       "      <td>2.5</td>\n",
       "      <td>106.6</td>\n",
       "      <td>5.2</td>\n",
       "      <td>3.3</td>\n",
       "      <td>0.3</td>\n",
       "    </tr>\n",
       "    <tr>\n",
       "      <th>4</th>\n",
       "      <td>Lettuce,Iceberg,Raw</td>\n",
       "      <td>0.02</td>\n",
       "      <td>1 Leaf</td>\n",
       "      <td>2.6</td>\n",
       "      <td>0.0</td>\n",
       "      <td>0.0</td>\n",
       "      <td>1.8</td>\n",
       "      <td>0.4</td>\n",
       "      <td>0.3</td>\n",
       "      <td>0.2</td>\n",
       "      <td>66.0</td>\n",
       "      <td>0.8</td>\n",
       "      <td>3.8</td>\n",
       "      <td>0.1</td>\n",
       "    </tr>\n",
       "    <tr>\n",
       "      <th>...</th>\n",
       "      <td>...</td>\n",
       "      <td>...</td>\n",
       "      <td>...</td>\n",
       "      <td>...</td>\n",
       "      <td>...</td>\n",
       "      <td>...</td>\n",
       "      <td>...</td>\n",
       "      <td>...</td>\n",
       "      <td>...</td>\n",
       "      <td>...</td>\n",
       "      <td>...</td>\n",
       "      <td>...</td>\n",
       "      <td>...</td>\n",
       "      <td>...</td>\n",
       "    </tr>\n",
       "    <tr>\n",
       "      <th>62</th>\n",
       "      <td>Crm Mshrm Soup,W/Mlk</td>\n",
       "      <td>0.65</td>\n",
       "      <td>1 C (8 Fl Oz)</td>\n",
       "      <td>203.4</td>\n",
       "      <td>19.8</td>\n",
       "      <td>13.6</td>\n",
       "      <td>1076.3</td>\n",
       "      <td>15.0</td>\n",
       "      <td>0.5</td>\n",
       "      <td>6.1</td>\n",
       "      <td>153.8</td>\n",
       "      <td>2.2</td>\n",
       "      <td>178.6</td>\n",
       "      <td>0.6</td>\n",
       "    </tr>\n",
       "    <tr>\n",
       "      <th>63</th>\n",
       "      <td>Beanbacn Soup,W/Watr</td>\n",
       "      <td>0.67</td>\n",
       "      <td>1 C (8 Fl Oz)</td>\n",
       "      <td>172.0</td>\n",
       "      <td>2.5</td>\n",
       "      <td>5.9</td>\n",
       "      <td>951.3</td>\n",
       "      <td>22.8</td>\n",
       "      <td>8.6</td>\n",
       "      <td>7.9</td>\n",
       "      <td>888.0</td>\n",
       "      <td>1.5</td>\n",
       "      <td>81.0</td>\n",
       "      <td>2.0</td>\n",
       "    </tr>\n",
       "    <tr>\n",
       "      <th>64</th>\n",
       "      <td>NaN</td>\n",
       "      <td>NaN</td>\n",
       "      <td>NaN</td>\n",
       "      <td>NaN</td>\n",
       "      <td>NaN</td>\n",
       "      <td>NaN</td>\n",
       "      <td>NaN</td>\n",
       "      <td>NaN</td>\n",
       "      <td>NaN</td>\n",
       "      <td>NaN</td>\n",
       "      <td>NaN</td>\n",
       "      <td>NaN</td>\n",
       "      <td>NaN</td>\n",
       "      <td>NaN</td>\n",
       "    </tr>\n",
       "    <tr>\n",
       "      <th>65</th>\n",
       "      <td>NaN</td>\n",
       "      <td>NaN</td>\n",
       "      <td>Minimum daily intake</td>\n",
       "      <td>1500.0</td>\n",
       "      <td>30.0</td>\n",
       "      <td>20.0</td>\n",
       "      <td>800.0</td>\n",
       "      <td>130.0</td>\n",
       "      <td>125.0</td>\n",
       "      <td>60.0</td>\n",
       "      <td>1000.0</td>\n",
       "      <td>400.0</td>\n",
       "      <td>700.0</td>\n",
       "      <td>10.0</td>\n",
       "    </tr>\n",
       "    <tr>\n",
       "      <th>66</th>\n",
       "      <td>NaN</td>\n",
       "      <td>NaN</td>\n",
       "      <td>Maximum daily intake</td>\n",
       "      <td>2500.0</td>\n",
       "      <td>240.0</td>\n",
       "      <td>70.0</td>\n",
       "      <td>2000.0</td>\n",
       "      <td>450.0</td>\n",
       "      <td>250.0</td>\n",
       "      <td>100.0</td>\n",
       "      <td>10000.0</td>\n",
       "      <td>5000.0</td>\n",
       "      <td>1500.0</td>\n",
       "      <td>40.0</td>\n",
       "    </tr>\n",
       "  </tbody>\n",
       "</table>\n",
       "<p>67 rows × 14 columns</p>\n",
       "</div>"
      ],
      "text/plain": [
       "                   Foods  Price/ Serving          Serving Size  Calories  \\\n",
       "0        Frozen Broccoli            0.16             10 Oz Pkg      73.8   \n",
       "1            Carrots,Raw            0.07      1/2 Cup Shredded      23.7   \n",
       "2            Celery, Raw            0.04               1 Stalk       6.4   \n",
       "3            Frozen Corn            0.18               1/2 Cup      72.2   \n",
       "4    Lettuce,Iceberg,Raw            0.02                1 Leaf       2.6   \n",
       "..                   ...             ...                   ...       ...   \n",
       "62  Crm Mshrm Soup,W/Mlk            0.65         1 C (8 Fl Oz)     203.4   \n",
       "63  Beanbacn Soup,W/Watr            0.67         1 C (8 Fl Oz)     172.0   \n",
       "64                   NaN             NaN                   NaN       NaN   \n",
       "65                   NaN             NaN  Minimum daily intake    1500.0   \n",
       "66                   NaN             NaN  Maximum daily intake    2500.0   \n",
       "\n",
       "    Cholesterol mg  Total_Fat g  Sodium mg  Carbohydrates g  Dietary_Fiber g  \\\n",
       "0              0.0          0.8       68.2             13.6              8.5   \n",
       "1              0.0          0.1       19.2              5.6              1.6   \n",
       "2              0.0          0.1       34.8              1.5              0.7   \n",
       "3              0.0          0.6        2.5             17.1              2.0   \n",
       "4              0.0          0.0        1.8              0.4              0.3   \n",
       "..             ...          ...        ...              ...              ...   \n",
       "62            19.8         13.6     1076.3             15.0              0.5   \n",
       "63             2.5          5.9      951.3             22.8              8.6   \n",
       "64             NaN          NaN        NaN              NaN              NaN   \n",
       "65            30.0         20.0      800.0            130.0            125.0   \n",
       "66           240.0         70.0     2000.0            450.0            250.0   \n",
       "\n",
       "    Protein g  Vit_A IU  Vit_C IU  Calcium mg  Iron mg  \n",
       "0         8.0    5867.4     160.2       159.0      2.3  \n",
       "1         0.6   15471.0       5.1        14.9      0.3  \n",
       "2         0.3      53.6       2.8        16.0      0.2  \n",
       "3         2.5     106.6       5.2         3.3      0.3  \n",
       "4         0.2      66.0       0.8         3.8      0.1  \n",
       "..        ...       ...       ...         ...      ...  \n",
       "62        6.1     153.8       2.2       178.6      0.6  \n",
       "63        7.9     888.0       1.5        81.0      2.0  \n",
       "64        NaN       NaN       NaN         NaN      NaN  \n",
       "65       60.0    1000.0     400.0       700.0     10.0  \n",
       "66      100.0   10000.0    5000.0      1500.0     40.0  \n",
       "\n",
       "[67 rows x 14 columns]"
      ]
     },
     "execution_count": 4,
     "metadata": {},
     "output_type": "execute_result"
    }
   ],
   "source": [
    "df = pd.read_excel(\"diet.xls\", sheet_name=\"Sheet1\")\n",
    "df"
   ]
  },
  {
   "cell_type": "markdown",
   "metadata": {},
   "source": [
    "### extract the min and max intake contraints and then remove the NaN rows and convert dataframe into list"
   ]
  },
  {
   "cell_type": "code",
   "execution_count": 5,
   "metadata": {},
   "outputs": [],
   "source": [
    "# constraints\n",
    "min_daily_intake = df.iloc[65, 3:]\n",
    "max_daily_intake = df.iloc[66, 3:]"
   ]
  },
  {
   "cell_type": "code",
   "execution_count": 6,
   "metadata": {},
   "outputs": [],
   "source": [
    "dfList = df.iloc[:64, ].values.tolist()"
   ]
  },
  {
   "cell_type": "markdown",
   "metadata": {},
   "source": [
    "### make a list from names of foods as our variables"
   ]
  },
  {
   "cell_type": "code",
   "execution_count": 7,
   "metadata": {},
   "outputs": [],
   "source": [
    "foods = [x[0] for x in dfList]"
   ]
  },
  {
   "cell_type": "markdown",
   "metadata": {},
   "source": [
    "### make multiple dictionares with tuple indices (foods, parameter of interest like cost, calories, ...)"
   ]
  },
  {
   "cell_type": "code",
   "execution_count": 8,
   "metadata": {},
   "outputs": [],
   "source": [
    "cost = dict([(x[0], x[1]) for x in dfList]) # cost of each food\n",
    "\n",
    "calories = dict([(x[0], x[3]) for x in dfList]) # calories intake of each food\n",
    "cholestrol = dict([(x[0], x[4]) for x in dfList]) # cholestrol intake of each food\n",
    "fat = dict([(x[0], x[5]) for x in dfList]) # fat intake of each food\n",
    "sodium = dict([(x[0], x[6]) for x in dfList]) # sodium intake of each food\n",
    "carbohydrates = dict([(x[7], x[1]) for x in dfList]) # carbohydrates intake of each food\n",
    "fiber = dict([(x[0], x[8]) for x in dfList]) # fiber intake of each food\n",
    "protein = dict([(x[0], x[9]) for x in dfList]) # protein intake of each food\n",
    "vit_A = dict([(x[0], x[10]) for x in dfList]) # vit_A intake of each food\n",
    "vit_C = dict([(x[0], x[11]) for x in dfList]) # vit_C intake of each food\n",
    "calcium = dict([(x[0], x[12]) for x in dfList]) # calcium intake of each food\n",
    "iron = dict([(x[0], x[13]) for x in dfList]) # iron intake of each food\n",
    "\n",
    "# combine all food intake dictionaries into a list such that each list item can be linked to its relevant min and max intake contraints\n",
    "intakes = []\n",
    "for i in range(0, 11):\n",
    "    intakes.append(dict([(x[0], x[i+3]) for x in dfList]))"
   ]
  },
  {
   "cell_type": "markdown",
   "metadata": {},
   "source": [
    "# instantiate a problem class"
   ]
  },
  {
   "cell_type": "code",
   "execution_count": 9,
   "metadata": {},
   "outputs": [],
   "source": [
    "import pulp"
   ]
  },
  {
   "cell_type": "code",
   "execution_count": 18,
   "metadata": {},
   "outputs": [],
   "source": [
    "# cost minimization linear problem\n",
    "diet_lp_problem = pulp.LpProblem(\"US_Army_Diet_Problem\", pulp.LpMinimize)\n",
    "\n",
    "# foods_vars = pulp.LpVariable.dicts(\"foods\", foods, lowBound=0)  # create continous variable\n",
    "foods_vars = pulp.LpVariable.dicts(\"foods\", foods, cat='Integer') # integer programming\n",
    "\n",
    "# create binary variable to check wheather food is in diet\n",
    "select_vars = pulp.LpVariable.dicts(\"select\", foods, cat=pulp.LpBinary)\n",
    "\n",
    "# create objective function which is total cost of diet for each soldier\n",
    "diet_lp_problem += pulp.lpSum([cost[f] * foods_vars[f] for f in foods])\n",
    "\n",
    "# create nutrient miinum and maximum daily intake constarints for all foods\n",
    "for j in range(0, 11):\n",
    "    diet_lp_problem += pulp.lpSum(intakes[j][f] * foods_vars[f] for f in foods) >= min_daily_intake[j]\n",
    "    diet_lp_problem += pulp.lpSum(intakes[j][f] * foods_vars[f] for f in foods) <= max_daily_intake[j]\n",
    "\n",
    "# Add constraints in 1.2 a: minimum of 1/10 serving if food is selecetd\n",
    "for f in foods:\n",
    "    diet_lp_problem += foods_vars[f] <= 1000 * select_vars[f]\n",
    "    diet_lp_problem += foods_vars[f] >= 0.1 * select_vars[f] \n",
    "    \n",
    "# Add contraints for 1.2 b: not a combination of both\n",
    "diet_lp_problem += select_vars['Frozen Broccoli'] + select_vars['Celery, Raw'] <=1  \n",
    "\n",
    "# Add contraints for 1.2 c: at least 3 kinds of meat/poultry/fish/eggs\n",
    "diet_lp_problem += (select_vars['Roasted Chicken'] + select_vars['Poached Eggs']\n",
    "                    + select_vars['Scrambled Eggs'] + select_vars['Bologna,Turkey']\n",
    "                    + select_vars['Frankfurter, Beef'] + select_vars['Ham,Sliced,Extralean']\n",
    "                    + select_vars['Kielbasa,Prk'] + select_vars['Pizza W/Pepperoni']\n",
    "                    + select_vars['Hamburger W/Toppings'] + select_vars['Hotdog, Plain']\n",
    "                    + select_vars['Pork'] + select_vars['Sardines in Oil']\n",
    "                    + select_vars['White Tuna in Water'] )>=3 "
   ]
  },
  {
   "cell_type": "code",
   "execution_count": 19,
   "metadata": {},
   "outputs": [
    {
     "data": {
      "text/plain": [
       "1"
      ]
     },
     "execution_count": 19,
     "metadata": {},
     "output_type": "execute_result"
    }
   ],
   "source": [
    "# solve the optimization problem!\n",
    "diet_lp_problem.solve()"
   ]
  },
  {
   "cell_type": "code",
   "execution_count": 20,
   "metadata": {},
   "outputs": [
    {
     "name": "stdout",
     "output_type": "stream",
     "text": [
      "Status: Optimal\n"
     ]
    }
   ],
   "source": [
    "print(\"Status:\", pulp.LpStatus[diet_lp_problem.status])"
   ]
  },
  {
   "cell_type": "markdown",
   "metadata": {},
   "source": [
    "# Linear Programming results"
   ]
  },
  {
   "cell_type": "code",
   "execution_count": 17,
   "metadata": {},
   "outputs": [
    {
     "name": "stdout",
     "output_type": "stream",
     "text": [
      "Optimization Solution:\n",
      "42.399358 units of foods_Celery,_Raw\n",
      "0.1 units of foods_Kielbasa,Prk\n",
      "82.802586 units of foods_Lettuce,Iceberg,Raw\n",
      "3.0771841 units of foods_Oranges\n",
      "1.9429716 units of foods_Peanut_Butter\n",
      "0.1 units of foods_Poached_Eggs\n",
      "13.223294 units of foods_Popcorn,Air_Popped\n",
      "0.1 units of foods_Scrambled_Eggs\n",
      "Total cost of food = $4.51\n"
     ]
    }
   ],
   "source": [
    "# print the foods of the optimal diet\n",
    "print('Optimization Solution:')\n",
    "for var in diet_lp_problem.variables():\n",
    "    if var.varValue > 0:\n",
    "        if str(var).find('select'):\n",
    "            print(str(var.varValue) + \" units of \" + str(var))\n",
    "            \n",
    "# print the costs of the optimal diet             \n",
    "print(\"Total cost of food = $%.2f\" % pulp.value(diet_lp_problem.objective))"
   ]
  },
  {
   "cell_type": "markdown",
   "metadata": {},
   "source": [
    "# Linear Integer Programming results"
   ]
  },
  {
   "cell_type": "code",
   "execution_count": 21,
   "metadata": {},
   "outputs": [
    {
     "name": "stdout",
     "output_type": "stream",
     "text": [
      "Optimization Solution:\n",
      "1.0 units of foods_Bologna,Turkey\n",
      "32.0 units of foods_Celery,_Raw\n",
      "1.0 units of foods_Kielbasa,Prk\n",
      "8.0 units of foods_Kiwifruit,Raw,Fresh\n",
      "96.0 units of foods_Lettuce,Iceberg,Raw\n",
      "12.0 units of foods_Popcorn,Air_Popped\n",
      "1.0 units of foods_Sardines_in_Oil\n",
      "1.0 units of foods_Tofu\n",
      "Total cost of food = $8.66\n"
     ]
    }
   ],
   "source": [
    "# print the foods of the optimal diet\n",
    "print('Optimization Solution:')\n",
    "for var in diet_lp_problem.variables():\n",
    "    if var.varValue > 0:\n",
    "        if str(var).find('select'):\n",
    "            print(str(var.varValue) + \" units of \" + str(var))\n",
    "            \n",
    "# print the costs of the optimal diet             \n",
    "print(\"Total cost of food = $%.2f\" % pulp.value(diet_lp_problem.objective))"
   ]
  },
  {
   "cell_type": "markdown",
   "metadata": {},
   "source": [
    "# Intresting observation is that when it is not possible to treat nutrients in fractions of standard serving size, i.e., integer programming, the total cost is almost double and diet is also different."
   ]
  }
 ],
 "metadata": {
  "kernelspec": {
   "display_name": "Python [conda env:ds]",
   "language": "python",
   "name": "conda-env-ds-py"
  },
  "language_info": {
   "codemirror_mode": {
    "name": "ipython",
    "version": 3
   },
   "file_extension": ".py",
   "mimetype": "text/x-python",
   "name": "python",
   "nbconvert_exporter": "python",
   "pygments_lexer": "ipython3",
   "version": "3.9.1"
  }
 },
 "nbformat": 4,
 "nbformat_minor": 4
}
